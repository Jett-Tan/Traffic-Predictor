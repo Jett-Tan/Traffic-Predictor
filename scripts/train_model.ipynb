{
 "cells": [
  {
   "cell_type": "code",
   "execution_count": null,
   "metadata": {},
   "outputs": [],
   "source": [
    "import pandas as pd\n",
    "from sklearn.model_selection import train_test_split\n",
    "from sklearn.preprocessing import LabelEncoder\n",
    "from sklearn.ensemble import RandomForestClassifier\n",
    "from sklearn.metrics import classification_report\n",
    "\n",
    "\n",
    "# Load the dataset# Load the dataset\n",
    "file_path = \"dags/data/RTA_Dataset.csv\"\n",
    "df = pd.read_csv(file_path) "
   ]
  },
  {
   "cell_type": "code",
   "execution_count": 112,
   "metadata": {},
   "outputs": [],
   "source": [
    "# Drop all rows with missing values\n",
    "df = df.dropna()"
   ]
  },
  {
   "cell_type": "code",
   "execution_count": 113,
   "metadata": {},
   "outputs": [],
   "source": [
    "# Select relevant columns\n",
    "columns = [\n",
    "    'day_of_week', 'age_band_of_driver', 'type_of_vehicle',\n",
    "    'area_accident_occured', 'lanes_or_medians',\n",
    "    'types_of_junction', 'weather_conditions', 'accident_severity'\n",
    "]\n",
    "# Convert all column names to lowercase\n",
    "df.columns = df.columns.str.lower()\n",
    "df = df[columns].copy()"
   ]
  },
  {
   "cell_type": "code",
   "execution_count": 114,
   "metadata": {},
   "outputs": [],
   "source": [
    "# 1. Clean 'day_of_week'\n",
    "valid_days = ['monday', 'sunday', 'friday', 'wednesday', 'saturday', 'thursday', 'tuesday']\n",
    "df['day_of_week'] = df['day_of_week'].str.lower()\n",
    "df = df[df['day_of_week'].isin(valid_days)]"
   ]
  },
  {
   "cell_type": "code",
   "execution_count": 115,
   "metadata": {},
   "outputs": [],
   "source": [
    "# 2. Clean 'age_band_of_driver'\n",
    "df = df[df['age_band_of_driver'] != 'Under 18']\n",
    "df['age_band_of_driver'] = df['age_band_of_driver'].replace({\n",
    "    'Over 51': '>51',\n",
    "    'Unknown': 'unknown'\n",
    "})"
   ]
  },
  {
   "cell_type": "code",
   "execution_count": 116,
   "metadata": {},
   "outputs": [],
   "source": [
    "# 3. Simplify 'type_of_vehicle'\n",
    "car_types = ['Automobile', 'Taxi', 'Stationwagen']\n",
    "lorry_types = ['Lorry (41?100Q)', 'Lorry (11?40Q)', 'Long lorry', 'Pick up upto 10Q']\n",
    "bus_types = ['Public (> 45 seats)', 'Public (12 seats)', 'Public (13?45 seats)']\n",
    "motorcycle_types = ['Motorcycle', 'Bajaj', 'Motorcycle (below 400cc)']\n",
    "other_types =['Ridden horse','Other','Special vehicle','Turbo','Bicycle']\n",
    "\n",
    "def simplify_vehicle_type(v):\n",
    "    if v in car_types:\n",
    "        return 'car'\n",
    "    elif v in lorry_types:\n",
    "        return 'lorry'\n",
    "    elif v in bus_types:\n",
    "        return 'bus'\n",
    "    elif v in motorcycle_types:\n",
    "        return 'motorcycle'\n",
    "    elif v in other_types:\n",
    "        return 'other'\n",
    "    else:\n",
    "        return 'other'\n",
    "df['type_of_vehicle'] = df['type_of_vehicle'].apply(simplify_vehicle_type)"
   ]
  },
  {
   "cell_type": "code",
   "execution_count": 117,
   "metadata": {},
   "outputs": [],
   "source": [
    "# transform categorical features\n",
    "types_of_junction_to_types_of_junction = {\n",
    "    \"Y Shape\":\"y_shape\",\n",
    "    \"No junction\":\"no_junction\",\n",
    "    \"Crossing\":  \"crossing\",\n",
    "    \"Other\":  \"other\",\n",
    "    \"Unknown\":  \"unknown\",\n",
    "    \"O Shape\":\"o_shape\",\n",
    "    \"T Shape\":\"t_shape\",\n",
    "    \"X Shape\":\"x_shape\",\n",
    "}\n",
    "df[\"types_of_junction\"] = df[\"types_of_junction\"].map(types_of_junction_to_types_of_junction)"
   ]
  },
  {
   "cell_type": "code",
   "execution_count": 118,
   "metadata": {},
   "outputs": [],
   "source": [
    "# transform 'area_accident_occured'\n",
    "area_to_highway = {\n",
    "    \"Other\": \"road\",\n",
    "    \"Office areas\": \"service\",\n",
    "    \"Residential areas\": \"residential\",\n",
    "    \"Church areas\": \"service\",\n",
    "    \"Industrial areas\": \"service\",\n",
    "    \"School areas\": \"living_street\",\n",
    "    \"Recreational areas\": \"living_street\",\n",
    "    \"Outside rural areas\": \"unclassified\",\n",
    "    \"Hospital areas\": \"service\",\n",
    "    \"Market areas\": \"living_street\",\n",
    "    \"Rural village areas\": \"tertiary\",\n",
    "    \"Unknown\": \"road\",\n",
    "    \"Rural village areasOffice areas\": \"road\",  # Inconsistent value\n",
    "    # Possible trimmed version to cover any leading/trailing whitespace\n",
    "    \"  Recreational areas\": \"living_street\",\n",
    "    \"  Market areas\": \"living_street\"\n",
    "}\n",
    "df[\"area_accident_occured\"] = df[\"area_accident_occured\"].dropna()\n",
    "df[\"area_accident_occured\"] = df[\"area_accident_occured\"].map(area_to_highway)"
   ]
  },
  {
   "cell_type": "code",
   "execution_count": 119,
   "metadata": {},
   "outputs": [],
   "source": [
    "# transform 'lanes_or_medians'\n",
    "df[\"lanes_or_medians\"] = df[\"lanes_or_medians\"].apply(\n",
    "    lambda x: \"two_way\" if 'two way' in x.lower() or 'two-way' in x.lower()\n",
    "    else \"one_way\" if 'double carriageway' in x.lower()\n",
    "    else x.strip().replace(\" \", \"_\").lower() \n",
    ")"
   ]
  },
  {
   "cell_type": "code",
   "execution_count": 120,
   "metadata": {},
   "outputs": [],
   "source": [
    "# transform 'weather_conditions'\n",
    "df[\"weather_conditions\"] = df[\"weather_conditions\"].apply(\n",
    "    lambda x: \"rain\" if \"rain\" in x.lower() else \"no_rain\"\n",
    ")"
   ]
  },
  {
   "cell_type": "code",
   "execution_count": null,
   "metadata": {},
   "outputs": [],
   "source": [
    "# transfrom 'accident_severity' # target\n",
    "df['accident_severity'] = df['accident_severity'].str.lower()\n",
    "df['accident_severity'] = df['accident_severity'].map(lambda x: x.split(' ')[0] if ' ' in x else x)\n"
   ]
  },
  {
   "cell_type": "code",
   "execution_count": 123,
   "metadata": {},
   "outputs": [
    {
     "name": "stdout",
     "output_type": "stream",
     "text": [
      "<class 'pandas.core.frame.DataFrame'>\n",
      "Index: 2689 entries, 8 to 12315\n",
      "Data columns (total 8 columns):\n",
      " #   Column                 Non-Null Count  Dtype \n",
      "---  ------                 --------------  ----- \n",
      " 0   day_of_week            2689 non-null   object\n",
      " 1   age_band_of_driver     2689 non-null   object\n",
      " 2   type_of_vehicle        2689 non-null   object\n",
      " 3   area_accident_occured  2195 non-null   object\n",
      " 4   lanes_or_medians       2689 non-null   object\n",
      " 5   types_of_junction      2689 non-null   object\n",
      " 6   weather_conditions     2689 non-null   object\n",
      " 7   accident_severity      2689 non-null   object\n",
      "dtypes: object(8)\n",
      "memory usage: 189.1+ KB\n",
      "['friday' 'thursday' 'tuesday' 'wednesday' 'saturday' 'sunday' 'monday']\n",
      "['18-30' '31-50' '>51' 'unknown']\n",
      "['lorry' 'car' 'bus' 'other' 'motorcycle']\n",
      "[nan 'residential' 'service' 'living_street' 'tertiary' 'road']\n",
      "['other' 'two_way' 'one_way' 'unknown']\n",
      "['y_shape' 'no_junction' 'crossing' 'o_shape' 'other' 'unknown' 't_shape'\n",
      " 'x_shape']\n",
      "['no_rain' 'rain']\n",
      "['slight' 'serious' 'fatal']\n"
     ]
    }
   ],
   "source": [
    "df.describe(include='all')\n",
    "df.info()\n",
    "for col in columns:\n",
    "    print(df[col].unique())  # Check unique values before encoding"
   ]
  }
 ],
 "metadata": {
  "kernelspec": {
   "display_name": "Python 3",
   "language": "python",
   "name": "python3"
  },
  "language_info": {
   "codemirror_mode": {
    "name": "ipython",
    "version": 3
   },
   "file_extension": ".py",
   "mimetype": "text/x-python",
   "name": "python",
   "nbconvert_exporter": "python",
   "pygments_lexer": "ipython3",
   "version": "3.10.11"
  }
 },
 "nbformat": 4,
 "nbformat_minor": 2
}
