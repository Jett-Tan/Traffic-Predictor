{
 "cells": [
  {
   "cell_type": "code",
   "execution_count": 1,
   "metadata": {},
   "outputs": [],
   "source": [
    "import pandas as pd\n",
    "\n",
    "# Load the dataset# Load the dataset\n",
    "file_path = \"dags/data/RTA_Dataset.csv\"\n",
    "df = pd.read_csv(file_path) "
   ]
  },
  {
   "cell_type": "code",
   "execution_count": 2,
   "metadata": {},
   "outputs": [],
   "source": [
    "# Select relevant columns\n",
    "columns = [\n",
    "    'Day_of_week', 'Age_band_of_driver', 'Type_of_vehicle',\n",
    "    'Area_accident_occured', 'Lanes_or_Medians',\n",
    "    'Types_of_Junction', 'Weather_conditions'\n",
    "]\n",
    "df = df[columns].copy()"
   ]
  },
  {
   "cell_type": "code",
   "execution_count": 3,
   "metadata": {},
   "outputs": [],
   "source": [
    "# 1. Clean 'Day_of_week'\n",
    "valid_days = ['monday', 'sunday', 'friday', 'wednesday', 'saturday', 'thursday', 'tuesday']\n",
    "df['Day_of_week'] = df['Day_of_week'].str.lower()\n",
    "df = df[df['Day_of_week'].isin(valid_days)]"
   ]
  },
  {
   "cell_type": "code",
   "execution_count": 4,
   "metadata": {},
   "outputs": [],
   "source": [
    "# 2. Clean 'Age_band_of_driver'\n",
    "df = df[df['Age_band_of_driver'] != 'Under 18']\n",
    "df['Age_band_of_driver'] = df['Age_band_of_driver'].replace({\n",
    "    'Above 51': '>51',\n",
    "    'Unknown': 'unknown'\n",
    "})"
   ]
  },
  {
   "cell_type": "code",
   "execution_count": 5,
   "metadata": {},
   "outputs": [],
   "source": [
    "# 3. Simplify 'Type_of_vehicle'\n",
    "car_types = ['Automobile', 'Taxi', 'Stationwagen']\n",
    "lorry_types = ['Lorry (41?100Q)', 'Lorry (11?40Q)', 'Long lorry', 'Pick up upto 10Q']\n",
    "def simplify_vehicle_type(v):\n",
    "    if v in car_types:\n",
    "        return 'car'\n",
    "    elif v in lorry_types:\n",
    "        return 'lorry'\n",
    "    else:\n",
    "        return 'other'\n",
    "df['Type_of_vehicle'] = df['Type_of_vehicle'].apply(simplify_vehicle_type)"
   ]
  },
  {
   "cell_type": "code",
   "execution_count": 6,
   "metadata": {},
   "outputs": [],
   "source": [
    "# 4. Standardize other categorical columns to lowercase\n",
    "for col in ['Area_accident_occured', 'Lanes_or_Medians', 'Types_of_Junction', 'Weather_conditions']:\n",
    "    df[col] = df[col].astype(str).str.lower()"
   ]
  },
  {
   "cell_type": "code",
   "execution_count": 7,
   "metadata": {},
   "outputs": [
    {
     "name": "stdout",
     "output_type": "stream",
     "text": [
      "  Day_of_week Age_band_of_driver Type_of_vehicle Area_accident_occured  \\\n",
      "0      monday              18-30             car     residential areas   \n",
      "1      monday              31-50           other          office areas   \n",
      "2      monday              18-30           lorry    recreational areas   \n",
      "3      sunday              18-30           other          office areas   \n",
      "4      sunday              18-30           other      industrial areas   \n",
      "\n",
      "    Lanes_or_Medians Types_of_Junction Weather_conditions  \n",
      "0                nan       no junction             normal  \n",
      "1  undivided two way       no junction             normal  \n",
      "2              other       no junction             normal  \n",
      "3              other           y shape             normal  \n",
      "4              other           y shape             normal  \n"
     ]
    }
   ],
   "source": [
    "print(df.head())"
   ]
  }
 ],
 "metadata": {
  "kernelspec": {
   "display_name": "Python 3",
   "language": "python",
   "name": "python3"
  },
  "language_info": {
   "codemirror_mode": {
    "name": "ipython",
    "version": 3
   },
   "file_extension": ".py",
   "mimetype": "text/x-python",
   "name": "python",
   "nbconvert_exporter": "python",
   "pygments_lexer": "ipython3",
   "version": "3.10.11"
  }
 },
 "nbformat": 4,
 "nbformat_minor": 2
}
